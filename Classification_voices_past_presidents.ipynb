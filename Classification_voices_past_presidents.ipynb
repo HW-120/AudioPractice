{
 "cells": [
  {
   "cell_type": "code",
   "execution_count": 2,
   "metadata": {},
   "outputs": [],
   "source": [
    "import requests"
   ]
  },
  {
   "cell_type": "code",
   "execution_count": 23,
   "metadata": {},
   "outputs": [],
   "source": [
    "# csv에 있는 정보들을 불러와서 csv_data에 저장함\n",
    "with open('President_speech_record_voice.csv') as file:\n",
    "    csv_data = []\n",
    "    for line in file.readlines():\n",
    "        csv_data.append(line.split(','))"
   ]
  },
  {
   "cell_type": "code",
   "execution_count": 24,
   "metadata": {
    "scrolled": true
   },
   "outputs": [],
   "source": [
    "# 각 데이터를 리스트에 저장\n",
    "president_name = []\n",
    "speech_data = []\n",
    "voice_record_link=[]\n",
    "for i in range(1, len(csv_data)):\n",
    "    president_name.append(csv_data[i][2])\n",
    "    speech_data.append(csv_data[i][3])\n",
    "    voice_record_link.append(csv_data[i][4])"
   ]
  },
  {
   "cell_type": "code",
   "execution_count": null,
   "metadata": {
    "scrolled": true
   },
   "outputs": [],
   "source": []
  },
  {
   "cell_type": "code",
   "execution_count": null,
   "metadata": {},
   "outputs": [],
   "source": []
  }
 ],
 "metadata": {
  "kernelspec": {
   "display_name": "Python 3",
   "language": "python",
   "name": "python3"
  }
 },
 "nbformat": 4,
 "nbformat_minor": 2
}
