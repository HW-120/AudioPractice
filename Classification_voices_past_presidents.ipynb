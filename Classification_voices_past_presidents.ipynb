{
 "cells": [
  {
   "cell_type": "code",
   "execution_count": 12,
   "metadata": {},
   "outputs": [],
   "source": [
    "import requests\n",
    "import os"
   ]
  },
  {
   "cell_type": "code",
   "execution_count": 13,
   "metadata": {},
   "outputs": [],
   "source": [
    "# csv에 있는 정보들을 불러와서 csv_data에 저장함\n",
    "with open('President_speech_record_voice.csv') as file:\n",
    "    csv_data = []\n",
    "    for line in file.readlines():\n",
    "        csv_data.append(line.split(','))"
   ]
  },
  {
   "cell_type": "code",
   "execution_count": 14,
   "metadata": {
    "scrolled": true
   },
   "outputs": [],
   "source": [
    "# 각 데이터를 리스트에 저장\n",
    "president_name = []\n",
    "speech_data = []\n",
    "voice_record_link=[]\n",
    "for i in range(1, len(csv_data)):\n",
    "    president_name.append(csv_data[i][2])\n",
    "    speech_data.append(csv_data[i][3])\n",
    "    csv_data[i][4] = csv_data[i][4].replace('\\n', '')\n",
    "    voice_record_link.append(csv_data[i][4])\n",
    "    "
   ]
  },
  {
   "cell_type": "code",
   "execution_count": null,
   "metadata": {
    "scrolled": true
   },
   "outputs": [
    {
     "name": "stdout",
     "output_type": "stream",
     "text": [
      "\n",
      "\n",
      "http://dams.pa.go.kr:8888/dams/NATURAL/2017/11/09/DOC/SRC/0304201711091118515696754015640.mp3\n",
      "http://dams.pa.go.kr:8888/dams/NATURAL/2017/11/09/DOC/SRC/0304201711091118518933035016383.mp3\n",
      "http://dams.pa.go.kr:8888/dams/NATURAL/2017/11/09/DOC/SRC/0304201711091118520189583010314.mp3\n",
      "http://dams.pa.go.kr:8888/dams/NATURAL/2017/11/09/DOC/SRC/0304201711091118524149249015137.mp3\n",
      "http://dams.pa.go.kr:8888/dams/NATURAL/2017/11/09/DOC/SRC/0304201711091118528585183013488.mp3\n",
      "http://dams.pa.go.kr:8888/dams/NATURAL/2017/11/09/DOC/SRC/0304201711091118552237588010755.mp3\n"
     ]
    }
   ],
   "source": [
    "top_dir = 'president_audio_record_data'\n",
    "presidents_count = 1\n",
    "try:\n",
    "    os.mkdir(top_dir)\n",
    "except:\n",
    "    print()\n",
    "for total_count in range(len(csv_data) - 1):\n",
    "    if total_count == 0 :\n",
    "        try:\n",
    "            os.mkdir(top_dir + '/' + president_name[total_count])\n",
    "        except:\n",
    "            print()\n",
    "    print(voice_record_link[total_count])\n",
    "    download_URL = voice_record_link[total_count]\n",
    "    r = requests.get(download_URL, allow_redirects=True)\n",
    "    open(top_dir + '/'+ president_name[total_count] + '/' + president_name[total_count] \n",
    "         + str(presidents_count) + '.wav', 'wb').write(r.content)\n",
    "    presidents_count += 1\n",
    "    if total_count < len(president_name) - 1 :\n",
    "        if(president_name[total_count] != president_name[total_count + 1]):\n",
    "            presidents_count = 1\n",
    "            try:\n",
    "                os.mkdir(top_dir + '/' + president_name[total_count + 1])\n",
    "            except:\n",
    "                print()"
   ]
  },
  {
   "cell_type": "code",
   "execution_count": null,
   "metadata": {},
   "outputs": [],
   "source": []
  }
 ],
 "metadata": {
  "kernelspec": {
   "display_name": "Python 3",
   "language": "python",
   "name": "python3"
  },
  "language_info": {
   "codemirror_mode": {
    "name": "ipython",
    "version": 3
   },
   "file_extension": ".py",
   "mimetype": "text/x-python",
   "name": "python",
   "nbconvert_exporter": "python",
   "pygments_lexer": "ipython3",
   "version": "3.7.4"
  }
 },
 "nbformat": 4,
 "nbformat_minor": 2
}
